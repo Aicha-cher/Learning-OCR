{
 "cells": [
  {
   "cell_type": "code",
   "execution_count": 1,
   "metadata": {},
   "outputs": [],
   "source": [
    "import pandas as pd\n",
    "cereales=pd.read_csv(\"FAOSTATcereales.csv\")\n",
    "MoyenneEnergiePoids=pd.read_csv(\"MoyenneEnergiePoids.csv\",index_col=0)\n",
    "RatioProteinePoids=pd.read_csv(\"RatioProteinePoids.csv\",index_col=0)"
   ]
  },
  {
   "cell_type": "code",
   "execution_count": 2,
   "metadata": {},
   "outputs": [],
   "source": [
    "ListeProduitsCereales=cereales.drop(columns=[\"Code Domaine\",\"Domaine\",\"Code Pays\",\"Pays\",\"Code Élément\",\"Élément\",\"Code Année\",\"Année\",\"Unité\",\"Valeur\",\"Symbole\",\"Description du Symbole\"])"
   ]
  },
  {
   "cell_type": "code",
   "execution_count": 3,
   "metadata": {},
   "outputs": [
    {
     "data": {
      "text/html": [
       "<div>\n",
       "<style scoped>\n",
       "    .dataframe tbody tr th:only-of-type {\n",
       "        vertical-align: middle;\n",
       "    }\n",
       "\n",
       "    .dataframe tbody tr th {\n",
       "        vertical-align: top;\n",
       "    }\n",
       "\n",
       "    .dataframe thead th {\n",
       "        text-align: right;\n",
       "    }\n",
       "</style>\n",
       "<table border=\"1\" class=\"dataframe\">\n",
       "  <thead>\n",
       "    <tr style=\"text-align: right;\">\n",
       "      <th></th>\n",
       "      <th>Code Produit</th>\n",
       "      <th>Produit</th>\n",
       "    </tr>\n",
       "  </thead>\n",
       "  <tbody>\n",
       "    <tr>\n",
       "      <th>0</th>\n",
       "      <td>2511</td>\n",
       "      <td>Blé</td>\n",
       "    </tr>\n",
       "    <tr>\n",
       "      <th>1</th>\n",
       "      <td>2805</td>\n",
       "      <td>Riz (Eq Blanchi)</td>\n",
       "    </tr>\n",
       "    <tr>\n",
       "      <th>2</th>\n",
       "      <td>2513</td>\n",
       "      <td>Orge</td>\n",
       "    </tr>\n",
       "    <tr>\n",
       "      <th>4</th>\n",
       "      <td>2514</td>\n",
       "      <td>Maïs</td>\n",
       "    </tr>\n",
       "    <tr>\n",
       "      <th>6</th>\n",
       "      <td>2517</td>\n",
       "      <td>Millet</td>\n",
       "    </tr>\n",
       "    <tr>\n",
       "      <th>7</th>\n",
       "      <td>2520</td>\n",
       "      <td>Céréales, Autres</td>\n",
       "    </tr>\n",
       "    <tr>\n",
       "      <th>15</th>\n",
       "      <td>2515</td>\n",
       "      <td>Seigle</td>\n",
       "    </tr>\n",
       "    <tr>\n",
       "      <th>17</th>\n",
       "      <td>2516</td>\n",
       "      <td>Avoine</td>\n",
       "    </tr>\n",
       "    <tr>\n",
       "      <th>21</th>\n",
       "      <td>2518</td>\n",
       "      <td>Sorgho</td>\n",
       "    </tr>\n",
       "  </tbody>\n",
       "</table>\n",
       "</div>"
      ],
      "text/plain": [
       "    Code Produit           Produit\n",
       "0           2511               Blé\n",
       "1           2805  Riz (Eq Blanchi)\n",
       "2           2513              Orge\n",
       "4           2514              Maïs\n",
       "6           2517            Millet\n",
       "7           2520  Céréales, Autres\n",
       "15          2515            Seigle\n",
       "17          2516            Avoine\n",
       "21          2518            Sorgho"
      ]
     },
     "execution_count": 3,
     "metadata": {},
     "output_type": "execute_result"
    }
   ],
   "source": [
    "ListeProduitsCereales=ListeProduitsCereales.drop_duplicates()\n",
    "#Liste des produits de type Céréales et leur codes\n",
    "ListeProduitsCereales"
   ]
  },
  {
   "cell_type": "code",
   "execution_count": 4,
   "metadata": {},
   "outputs": [],
   "source": [
    "CerealesPourAnimaux=cereales.groupby(\"Élément\").get_group(\"Aliments pour animaux\")"
   ]
  },
  {
   "cell_type": "code",
   "execution_count": 5,
   "metadata": {},
   "outputs": [],
   "source": [
    "CerealesPourAnimauxClean=CerealesPourAnimaux.drop(columns=[\"Code Domaine\",\"Code Produit\",\"Domaine\",\"Code Pays\",\"Pays\",\"Code Élément\",\"Élément\",\"Code Année\",\"Année\",\"Unité\",\"Symbole\",\"Description du Symbole\"])"
   ]
  },
  {
   "cell_type": "code",
   "execution_count": 6,
   "metadata": {},
   "outputs": [],
   "source": [
    "CerealesPourAnimauxClean[\"Valeur\"]=CerealesPourAnimauxClean[\"Valeur\"]*1000000\n",
    "#Conversion des milliers de tonnes en kilos\n",
    "CerealesPourAnimauxClean=CerealesPourAnimauxClean.rename(columns={\"Valeur\":\"Kilos\"})"
   ]
  },
  {
   "cell_type": "code",
   "execution_count": 7,
   "metadata": {},
   "outputs": [],
   "source": [
    "CerealesPourAnimauxClean=CerealesPourAnimauxClean.groupby(\"Produit\").sum().reset_index()\n",
    "#Pour obtenir la somme pour chaque produit de toute la disponibilité des céréales \n",
    "#pour l'alimentation des animaux en kilos par an"
   ]
  },
  {
   "cell_type": "code",
   "execution_count": 8,
   "metadata": {},
   "outputs": [
    {
     "data": {
      "text/html": [
       "<div>\n",
       "<style scoped>\n",
       "    .dataframe tbody tr th:only-of-type {\n",
       "        vertical-align: middle;\n",
       "    }\n",
       "\n",
       "    .dataframe tbody tr th {\n",
       "        vertical-align: top;\n",
       "    }\n",
       "\n",
       "    .dataframe thead th {\n",
       "        text-align: right;\n",
       "    }\n",
       "</style>\n",
       "<table border=\"1\" class=\"dataframe\">\n",
       "  <thead>\n",
       "    <tr style=\"text-align: right;\">\n",
       "      <th></th>\n",
       "      <th>Produit</th>\n",
       "      <th>Kilos</th>\n",
       "    </tr>\n",
       "  </thead>\n",
       "  <tbody>\n",
       "    <tr>\n",
       "      <th>0</th>\n",
       "      <td>Avoine</td>\n",
       "      <td>16251000000</td>\n",
       "    </tr>\n",
       "    <tr>\n",
       "      <th>1</th>\n",
       "      <td>Blé</td>\n",
       "      <td>129668000000</td>\n",
       "    </tr>\n",
       "    <tr>\n",
       "      <th>2</th>\n",
       "      <td>Céréales, Autres</td>\n",
       "      <td>19035000000</td>\n",
       "    </tr>\n",
       "    <tr>\n",
       "      <th>3</th>\n",
       "      <td>Maïs</td>\n",
       "      <td>546116000000</td>\n",
       "    </tr>\n",
       "    <tr>\n",
       "      <th>4</th>\n",
       "      <td>Millet</td>\n",
       "      <td>3306000000</td>\n",
       "    </tr>\n",
       "    <tr>\n",
       "      <th>5</th>\n",
       "      <td>Orge</td>\n",
       "      <td>92658000000</td>\n",
       "    </tr>\n",
       "    <tr>\n",
       "      <th>6</th>\n",
       "      <td>Riz (Eq Blanchi)</td>\n",
       "      <td>33594000000</td>\n",
       "    </tr>\n",
       "    <tr>\n",
       "      <th>7</th>\n",
       "      <td>Seigle</td>\n",
       "      <td>8099000000</td>\n",
       "    </tr>\n",
       "    <tr>\n",
       "      <th>8</th>\n",
       "      <td>Sorgho</td>\n",
       "      <td>24808000000</td>\n",
       "    </tr>\n",
       "  </tbody>\n",
       "</table>\n",
       "</div>"
      ],
      "text/plain": [
       "            Produit         Kilos\n",
       "0            Avoine   16251000000\n",
       "1               Blé  129668000000\n",
       "2  Céréales, Autres   19035000000\n",
       "3              Maïs  546116000000\n",
       "4            Millet    3306000000\n",
       "5              Orge   92658000000\n",
       "6  Riz (Eq Blanchi)   33594000000\n",
       "7            Seigle    8099000000\n",
       "8            Sorgho   24808000000"
      ]
     },
     "execution_count": 8,
     "metadata": {},
     "output_type": "execute_result"
    }
   ],
   "source": [
    "CerealesPourAnimauxClean\n",
    "#Céréales qui partent pour l'alimentation animale"
   ]
  },
  {
   "cell_type": "code",
   "execution_count": 9,
   "metadata": {},
   "outputs": [],
   "source": [
    "#Pour la conversion en Kcal j'importe puis fusionne avec la table MoyenneEnergiePoids, calculée précédemment\n",
    "CerealesPourAnimEnKcal=pd.merge(CerealesPourAnimauxClean,MoyenneEnergiePoids,on=\"Produit\")"
   ]
  },
  {
   "cell_type": "code",
   "execution_count": 10,
   "metadata": {},
   "outputs": [],
   "source": [
    "#Je crée la colonne et effectue le calcul\n",
    "CerealesPourAnimEnKcal[\"Kcal\"]=CerealesPourAnimEnKcal.Kilos*CerealesPourAnimEnKcal.RatioEnergiePoids"
   ]
  },
  {
   "cell_type": "code",
   "execution_count": 11,
   "metadata": {},
   "outputs": [
    {
     "data": {
      "text/html": [
       "<div>\n",
       "<style scoped>\n",
       "    .dataframe tbody tr th:only-of-type {\n",
       "        vertical-align: middle;\n",
       "    }\n",
       "\n",
       "    .dataframe tbody tr th {\n",
       "        vertical-align: top;\n",
       "    }\n",
       "\n",
       "    .dataframe thead th {\n",
       "        text-align: right;\n",
       "    }\n",
       "</style>\n",
       "<table border=\"1\" class=\"dataframe\">\n",
       "  <thead>\n",
       "    <tr style=\"text-align: right;\">\n",
       "      <th></th>\n",
       "      <th>Produit</th>\n",
       "      <th>Kilos</th>\n",
       "      <th>RatioEnergiePoids</th>\n",
       "      <th>Kcal</th>\n",
       "    </tr>\n",
       "  </thead>\n",
       "  <tbody>\n",
       "    <tr>\n",
       "      <th>0</th>\n",
       "      <td>Avoine</td>\n",
       "      <td>16251000000</td>\n",
       "      <td>2273.494107</td>\n",
       "      <td>3.694655e+13</td>\n",
       "    </tr>\n",
       "    <tr>\n",
       "      <th>1</th>\n",
       "      <td>Blé</td>\n",
       "      <td>129668000000</td>\n",
       "      <td>2849.720839</td>\n",
       "      <td>3.695176e+14</td>\n",
       "    </tr>\n",
       "    <tr>\n",
       "      <th>2</th>\n",
       "      <td>Céréales, Autres</td>\n",
       "      <td>19035000000</td>\n",
       "      <td>2912.034307</td>\n",
       "      <td>5.543057e+13</td>\n",
       "    </tr>\n",
       "    <tr>\n",
       "      <th>3</th>\n",
       "      <td>Maïs</td>\n",
       "      <td>546116000000</td>\n",
       "      <td>3021.790252</td>\n",
       "      <td>1.650248e+15</td>\n",
       "    </tr>\n",
       "    <tr>\n",
       "      <th>4</th>\n",
       "      <td>Millet</td>\n",
       "      <td>3306000000</td>\n",
       "      <td>3103.181312</td>\n",
       "      <td>1.025912e+13</td>\n",
       "    </tr>\n",
       "    <tr>\n",
       "      <th>5</th>\n",
       "      <td>Orge</td>\n",
       "      <td>92658000000</td>\n",
       "      <td>2551.209457</td>\n",
       "      <td>2.363900e+14</td>\n",
       "    </tr>\n",
       "    <tr>\n",
       "      <th>6</th>\n",
       "      <td>Riz (Eq Blanchi)</td>\n",
       "      <td>33594000000</td>\n",
       "      <td>3640.903953</td>\n",
       "      <td>1.223125e+14</td>\n",
       "    </tr>\n",
       "    <tr>\n",
       "      <th>7</th>\n",
       "      <td>Seigle</td>\n",
       "      <td>8099000000</td>\n",
       "      <td>2745.460587</td>\n",
       "      <td>2.223549e+13</td>\n",
       "    </tr>\n",
       "    <tr>\n",
       "      <th>8</th>\n",
       "      <td>Sorgho</td>\n",
       "      <td>24808000000</td>\n",
       "      <td>3106.869396</td>\n",
       "      <td>7.707522e+13</td>\n",
       "    </tr>\n",
       "  </tbody>\n",
       "</table>\n",
       "</div>"
      ],
      "text/plain": [
       "            Produit         Kilos  RatioEnergiePoids          Kcal\n",
       "0            Avoine   16251000000        2273.494107  3.694655e+13\n",
       "1               Blé  129668000000        2849.720839  3.695176e+14\n",
       "2  Céréales, Autres   19035000000        2912.034307  5.543057e+13\n",
       "3              Maïs  546116000000        3021.790252  1.650248e+15\n",
       "4            Millet    3306000000        3103.181312  1.025912e+13\n",
       "5              Orge   92658000000        2551.209457  2.363900e+14\n",
       "6  Riz (Eq Blanchi)   33594000000        3640.903953  1.223125e+14\n",
       "7            Seigle    8099000000        2745.460587  2.223549e+13\n",
       "8            Sorgho   24808000000        3106.869396  7.707522e+13"
      ]
     },
     "execution_count": 11,
     "metadata": {},
     "output_type": "execute_result"
    }
   ],
   "source": [
    "CerealesPourAnimEnKcal\n",
    "#Données converties en Kcal"
   ]
  },
  {
   "cell_type": "code",
   "execution_count": 12,
   "metadata": {
    "scrolled": true
   },
   "outputs": [],
   "source": [
    "#Pour la conversion en protéines j'importe puis fusionne avec la table RatioProteinePoids, calculée précédemment\n",
    "ProtCerealesPourAnim=pd.merge(RatioProteinePoids,CerealesPourAnimauxClean,on=\"Produit\")"
   ]
  },
  {
   "cell_type": "code",
   "execution_count": 13,
   "metadata": {},
   "outputs": [],
   "source": [
    "#Je crée la colonne et effectue le calcul\n",
    "ProtCerealesPourAnim[\"Protéines en grammes\"]=(ProtCerealesPourAnim.Pourcentage/100)*ProtCerealesPourAnim.Kilos*1000"
   ]
  },
  {
   "cell_type": "code",
   "execution_count": 14,
   "metadata": {},
   "outputs": [
    {
     "data": {
      "text/html": [
       "<div>\n",
       "<style scoped>\n",
       "    .dataframe tbody tr th:only-of-type {\n",
       "        vertical-align: middle;\n",
       "    }\n",
       "\n",
       "    .dataframe tbody tr th {\n",
       "        vertical-align: top;\n",
       "    }\n",
       "\n",
       "    .dataframe thead th {\n",
       "        text-align: right;\n",
       "    }\n",
       "</style>\n",
       "<table border=\"1\" class=\"dataframe\">\n",
       "  <thead>\n",
       "    <tr style=\"text-align: right;\">\n",
       "      <th></th>\n",
       "      <th>Produit</th>\n",
       "      <th>Pourcentage</th>\n",
       "      <th>RatioProteinePoids</th>\n",
       "      <th>Kilos</th>\n",
       "      <th>Protéines en grammes</th>\n",
       "    </tr>\n",
       "  </thead>\n",
       "  <tbody>\n",
       "    <tr>\n",
       "      <th>0</th>\n",
       "      <td>Avoine</td>\n",
       "      <td>8.301523</td>\n",
       "      <td>8.301523</td>\n",
       "      <td>16251000000</td>\n",
       "      <td>1.349081e+12</td>\n",
       "    </tr>\n",
       "    <tr>\n",
       "      <th>1</th>\n",
       "      <td>Blé</td>\n",
       "      <td>8.855398</td>\n",
       "      <td>8.855398</td>\n",
       "      <td>129668000000</td>\n",
       "      <td>1.148262e+13</td>\n",
       "    </tr>\n",
       "    <tr>\n",
       "      <th>2</th>\n",
       "      <td>Céréales, Autres</td>\n",
       "      <td>8.477314</td>\n",
       "      <td>8.477314</td>\n",
       "      <td>19035000000</td>\n",
       "      <td>1.613657e+12</td>\n",
       "    </tr>\n",
       "    <tr>\n",
       "      <th>3</th>\n",
       "      <td>Maïs</td>\n",
       "      <td>7.310310</td>\n",
       "      <td>7.310310</td>\n",
       "      <td>546116000000</td>\n",
       "      <td>3.992277e+13</td>\n",
       "    </tr>\n",
       "    <tr>\n",
       "      <th>4</th>\n",
       "      <td>Millet</td>\n",
       "      <td>7.898374</td>\n",
       "      <td>7.898374</td>\n",
       "      <td>3306000000</td>\n",
       "      <td>2.611202e+11</td>\n",
       "    </tr>\n",
       "    <tr>\n",
       "      <th>5</th>\n",
       "      <td>Orge</td>\n",
       "      <td>7.231703</td>\n",
       "      <td>7.231703</td>\n",
       "      <td>92658000000</td>\n",
       "      <td>6.700751e+12</td>\n",
       "    </tr>\n",
       "    <tr>\n",
       "      <th>6</th>\n",
       "      <td>Riz (Eq Blanchi)</td>\n",
       "      <td>6.860267</td>\n",
       "      <td>6.860267</td>\n",
       "      <td>33594000000</td>\n",
       "      <td>2.304638e+12</td>\n",
       "    </tr>\n",
       "    <tr>\n",
       "      <th>7</th>\n",
       "      <td>Seigle</td>\n",
       "      <td>7.344320</td>\n",
       "      <td>7.344320</td>\n",
       "      <td>8099000000</td>\n",
       "      <td>5.948165e+11</td>\n",
       "    </tr>\n",
       "    <tr>\n",
       "      <th>8</th>\n",
       "      <td>Sorgho</td>\n",
       "      <td>8.904038</td>\n",
       "      <td>8.904038</td>\n",
       "      <td>24808000000</td>\n",
       "      <td>2.208914e+12</td>\n",
       "    </tr>\n",
       "  </tbody>\n",
       "</table>\n",
       "</div>"
      ],
      "text/plain": [
       "            Produit  Pourcentage  RatioProteinePoids         Kilos  \\\n",
       "0            Avoine     8.301523            8.301523   16251000000   \n",
       "1               Blé     8.855398            8.855398  129668000000   \n",
       "2  Céréales, Autres     8.477314            8.477314   19035000000   \n",
       "3              Maïs     7.310310            7.310310  546116000000   \n",
       "4            Millet     7.898374            7.898374    3306000000   \n",
       "5              Orge     7.231703            7.231703   92658000000   \n",
       "6  Riz (Eq Blanchi)     6.860267            6.860267   33594000000   \n",
       "7            Seigle     7.344320            7.344320    8099000000   \n",
       "8            Sorgho     8.904038            8.904038   24808000000   \n",
       "\n",
       "   Protéines en grammes  \n",
       "0          1.349081e+12  \n",
       "1          1.148262e+13  \n",
       "2          1.613657e+12  \n",
       "3          3.992277e+13  \n",
       "4          2.611202e+11  \n",
       "5          6.700751e+12  \n",
       "6          2.304638e+12  \n",
       "7          5.948165e+11  \n",
       "8          2.208914e+12  "
      ]
     },
     "execution_count": 14,
     "metadata": {},
     "output_type": "execute_result"
    }
   ],
   "source": [
    "ProtCerealesPourAnim\n",
    "#Données converties en protéines"
   ]
  },
  {
   "cell_type": "code",
   "execution_count": 15,
   "metadata": {},
   "outputs": [],
   "source": [
    "#Pour la dernière question, je reprends le fichier du début dont j'isole l'élément \"Disponibilité intérieure\"\n",
    "CerealesDispoInt=cereales.groupby(\"Élément\").get_group(\"Disponibilité intérieure\")\n",
    "CerealesDispoInt=CerealesDispoInt.drop(columns=[\"Code Domaine\",\"Code Produit\",\"Domaine\",\"Code Pays\",\"Code Élément\",\"Élément\",\"Code Année\",\"Année\",\"Unité\",\"Symbole\",\"Description du Symbole\"])\n",
    "CerealesDispoInt[\"Valeur\"]=CerealesDispoInt[\"Valeur\"]*1000000\n",
    "#Conversion des milliers de tonnes en kilos\n",
    "CerealesDispoInt=CerealesDispoInt.rename(columns={\"Valeur\":\"Kilos\"})"
   ]
  },
  {
   "cell_type": "code",
   "execution_count": 16,
   "metadata": {},
   "outputs": [
    {
     "data": {
      "text/plain": [
       "2406999000000"
      ]
     },
     "execution_count": 16,
     "metadata": {},
     "output_type": "execute_result"
    }
   ],
   "source": [
    "CerealesDispoInt.sum()[\"Kilos\"]\n",
    "#Totale de la disponibilité intérieure des céréales en kilos\n",
    "#2,4 milliards de tonnes par an"
   ]
  },
  {
   "cell_type": "code",
   "execution_count": 17,
   "metadata": {},
   "outputs": [
    {
     "data": {
      "text/plain": [
       "873535000000"
      ]
     },
     "execution_count": 17,
     "metadata": {},
     "output_type": "execute_result"
    }
   ],
   "source": [
    "CerealesPourAnimauxClean.sum()[\"Kilos\"]\n",
    "#Totale de la disponibilité des céréales pour l'alimentation animale en kilos\n",
    "#873 millions de tonnes par an"
   ]
  },
  {
   "cell_type": "code",
   "execution_count": 18,
   "metadata": {},
   "outputs": [
    {
     "data": {
      "text/plain": [
       "36.291456706047654"
      ]
     },
     "execution_count": 18,
     "metadata": {},
     "output_type": "execute_result"
    }
   ],
   "source": [
    "CerealesPourAnimauxClean.sum()[\"Kilos\"]/CerealesDispoInt.sum()[\"Kilos\"]*100\n",
    "#Pourcentage de la disponibilité mondiale de céréales déstinée à l'alimentation animale"
   ]
  }
 ],
 "metadata": {
  "kernelspec": {
   "display_name": "Python 3",
   "language": "python",
   "name": "python3"
  },
  "language_info": {
   "codemirror_mode": {
    "name": "ipython",
    "version": 3
   },
   "file_extension": ".py",
   "mimetype": "text/x-python",
   "name": "python",
   "nbconvert_exporter": "python",
   "pygments_lexer": "ipython3",
   "version": "3.6.4"
  }
 },
 "nbformat": 4,
 "nbformat_minor": 2
}
