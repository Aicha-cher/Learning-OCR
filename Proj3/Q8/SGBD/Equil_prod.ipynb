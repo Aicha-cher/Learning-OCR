{
 "cells": [
  {
   "cell_type": "code",
   "execution_count": 1,
   "metadata": {},
   "outputs": [],
   "source": [
    "import pandas as pd\n",
    "df=pd.read_csv(\"FAOSTAT_Equil_prod.csv\")\n",
    "df=df.drop(columns=[\"Code Domaine\",\"Domaine\",\"Code Élément\",\"Code Année\"])"
   ]
  },
  {
   "cell_type": "code",
   "execution_count": 2,
   "metadata": {},
   "outputs": [],
   "source": [
    "DispoInt=df.groupby(\"Élément\").get_group(\"Disponibilité intérieure\")\n",
    "DispoInt=DispoInt.drop(columns=[\"Élément\"])\n",
    "equil_prod=DispoInt.rename(columns={\"Valeur\":\"dispo_int\"})"
   ]
  },
  {
   "cell_type": "code",
   "execution_count": 5,
   "metadata": {},
   "outputs": [],
   "source": [
    "Semences=df.groupby(\"Élément\").get_group(\"Semences\")\n",
    "Semences=Semences.drop(columns=\"Élément\")\n",
    "Semences=Semences.rename(columns={\"Valeur\":\"semences\"})\n",
    "equil_prod=Semences.merge(equil_prod, on=[\"Pays\",\"Code Pays\",\"Code Produit\",\"Produit\",\"Année\"])"
   ]
  },
  {
   "cell_type": "code",
   "execution_count": 6,
   "metadata": {
    "scrolled": true
   },
   "outputs": [],
   "source": [
    "Pertes=df.groupby(\"Élément\").get_group(\"Pertes\")\n",
    "Pertes=Pertes.drop(columns=\"Élément\")\n",
    "Pertes=Pertes.rename(columns={\"Valeur\":\"pertes\"})\n",
    "equil_prod=Pertes.merge(equil_prod, on=[\"Pays\",\"Code Pays\",\"Code Produit\",\"Produit\",\"Année\"])"
   ]
  },
  {
   "cell_type": "code",
   "execution_count": 7,
   "metadata": {
    "scrolled": true
   },
   "outputs": [],
   "source": [
    "Nourriture=df.groupby(\"Élément\").get_group(\"Nourriture\")\n",
    "Nourriture=Nourriture.drop(columns=\"Élément\")\n",
    "Nourriture=Nourriture.rename(columns={\"Valeur\":\"nourriture\"})\n",
    "equil_prod=Nourriture.merge(equil_prod, on=[\"Pays\",\"Code Pays\",\"Code Produit\",\"Produit\",\"Année\"])"
   ]
  },
  {
   "cell_type": "code",
   "execution_count": 8,
   "metadata": {
    "scrolled": true
   },
   "outputs": [],
   "source": [
    "AutreUti=df.groupby(\"Élément\").get_group(\"Autres Utilisations\")\n",
    "AutreUti=AutreUti.drop(columns=\"Élément\")\n",
    "AutreUti=AutreUti.rename(columns={\"Valeur\":\"autres_utilisations\"})\n",
    "equil_prod=AutreUti.merge(equil_prod, on=[\"Pays\",\"Code Pays\",\"Code Produit\",\"Produit\",\"Année\"],how=\"inner\")"
   ]
  },
  {
   "cell_type": "code",
   "execution_count": 9,
   "metadata": {
    "scrolled": true
   },
   "outputs": [],
   "source": [
    "Alim_Ani=df.groupby(\"Élément\").get_group(\"Aliments pour animaux\")\n",
    "Alim_Ani=Alim_Ani.drop(columns=\"Élément\")\n",
    "Alim_Ani=Alim_Ani.rename(columns={\"Valeur\":\"alim_ani\"})\n",
    "equil_prod=Alim_Ani.merge(equil_prod, on=[\"Pays\",\"Code Pays\",\"Code Produit\",\"Produit\",\"Année\"])"
   ]
  },
  {
   "cell_type": "code",
   "execution_count": 13,
   "metadata": {
    "scrolled": true
   },
   "outputs": [],
   "source": [
    "Transfo=df.groupby(\"Élément\").get_group(\"Traitement\")\n",
    "Transfo=Transfo.drop(columns=\"Élément\")\n",
    "Transfo=Transfo.rename(columns={\"Valeur\":\"transfo\"})\n",
    "equil_prod=Transfo.merge(equil_prod, on=[\"Pays\",\"Code Pays\",\"Code Produit\",\"Produit\",\"Année\"])"
   ]
  },
  {
   "cell_type": "code",
   "execution_count": 15,
   "metadata": {},
   "outputs": [],
   "source": [
    "equil_prod=equil_prod.rename(columns={\"Code Pays\":\"code_pays\",\"Pays\":\"pays\",\"Produit\":\"produit\",\"Code Produit\":\"code_produit\",\"Année\":\"annee\"})"
   ]
  },
  {
   "cell_type": "code",
   "execution_count": 17,
   "metadata": {},
   "outputs": [],
   "source": [
    "equil_prod.to_csv(\"equil_prod.csv\")"
   ]
  },
  {
   "cell_type": "code",
   "execution_count": null,
   "metadata": {},
   "outputs": [],
   "source": []
  },
  {
   "cell_type": "code",
   "execution_count": null,
   "metadata": {},
   "outputs": [],
   "source": []
  },
  {
   "cell_type": "code",
   "execution_count": null,
   "metadata": {},
   "outputs": [],
   "source": []
  }
 ],
 "metadata": {
  "kernelspec": {
   "display_name": "Python 3",
   "language": "python",
   "name": "python3"
  },
  "language_info": {
   "codemirror_mode": {
    "name": "ipython",
    "version": 3
   },
   "file_extension": ".py",
   "mimetype": "text/x-python",
   "name": "python",
   "nbconvert_exporter": "python",
   "pygments_lexer": "ipython3",
   "version": "3.6.4"
  }
 },
 "nbformat": 4,
 "nbformat_minor": 2
}
