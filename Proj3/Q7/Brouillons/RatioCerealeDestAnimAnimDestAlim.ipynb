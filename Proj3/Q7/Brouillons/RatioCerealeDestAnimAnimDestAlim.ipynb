{
 "cells": [
  {
   "cell_type": "code",
   "execution_count": 1,
   "metadata": {},
   "outputs": [],
   "source": [
    "import pandas as pd\n",
    "data=pd.read_csv(\"TableProdAnimauxKcalProtAlim.csv\",index_col=0)\n",
    "df=pd.read_csv(\"DispoCerealeDestAnimale.csv\",index_col=0)\n",
    "RatioProteinePoids=pd.read_csv(\"RatioProteinePoids.csv\",index_col=0)\n",
    "MoyenneEnergiePoids=pd.read_csv(\"MoyenneEnergiePoids.csv\",index_col=0)\n",
    "\n",
    "def conversKcal(dispoAnimKg,RatioKcalparKg):\n",
    "    return dispoAnimKg*RatioKcalparKg\n",
    "\n",
    "def conversProt(dispoAnimKg,pourcentage):\n",
    "    return dispoAnimKg*(pourcentage/100)"
   ]
  },
  {
   "cell_type": "code",
   "execution_count": 2,
   "metadata": {},
   "outputs": [],
   "source": [
    "df[\"KgDispoAnimaux\"]=df[\"GrDispoAnimaux\"]/1000"
   ]
  },
  {
   "cell_type": "code",
   "execution_count": 3,
   "metadata": {
    "scrolled": true
   },
   "outputs": [],
   "source": [
    "DispoCereDestAnim=df.drop(columns=\"GrDispoAnimaux\")"
   ]
  },
  {
   "cell_type": "code",
   "execution_count": 4,
   "metadata": {},
   "outputs": [],
   "source": [
    "DispoCereDestAnim=pd.merge(DispoCereDestAnim,MoyenneEnergiePoids,on=\"Produit\")"
   ]
  },
  {
   "cell_type": "code",
   "execution_count": 5,
   "metadata": {},
   "outputs": [],
   "source": [
    "DispoCereDestAnim=pd.merge(DispoCereDestAnim,RatioProteinePoids,on=\"Produit\")"
   ]
  },
  {
   "cell_type": "code",
   "execution_count": 6,
   "metadata": {},
   "outputs": [],
   "source": [
    "DispoCereDestAnim=DispoCereDestAnim.assign(DispoKcal=conversKcal(DispoCereDestAnim.KgDispoAnimaux,DispoCereDestAnim.RatioEnergiePoids))"
   ]
  },
  {
   "cell_type": "code",
   "execution_count": 7,
   "metadata": {},
   "outputs": [],
   "source": [
    "DispoCereDestAnim=DispoCereDestAnim.assign(DispoGrProt=conversProt(DispoCereDestAnim.KgDispoAnimaux,DispoCereDestAnim.Pourcentage))"
   ]
  },
  {
   "cell_type": "code",
   "execution_count": 8,
   "metadata": {},
   "outputs": [],
   "source": [
    "DispoCereDestAnim=DispoCereDestAnim.drop(columns=[\"RatioEnergiePoids\",\"Pourcentage\"])"
   ]
  },
  {
   "cell_type": "code",
   "execution_count": 9,
   "metadata": {
    "scrolled": true
   },
   "outputs": [
    {
     "data": {
      "text/plain": [
       "0.7379814888703625"
      ]
     },
     "execution_count": 9,
     "metadata": {},
     "output_type": "execute_result"
    }
   ],
   "source": [
    "DispoCereDestAnim.sum()[\"KgDispoAnimaux\"]/data.sum()[\"DispoAnimDestAlimKg\"]"
   ]
  },
  {
   "cell_type": "code",
   "execution_count": 10,
   "metadata": {},
   "outputs": [
    {
     "data": {
      "text/plain": [
       "1.9939124991106163"
      ]
     },
     "execution_count": 10,
     "metadata": {},
     "output_type": "execute_result"
    }
   ],
   "source": [
    "DispoCereDestAnim.sum()[\"DispoKcal\"]/data.sum()[\"DispoKcal\"]"
   ]
  },
  {
   "cell_type": "code",
   "execution_count": 11,
   "metadata": {},
   "outputs": [
    {
     "data": {
      "text/plain": [
       "0.8097350892057622"
      ]
     },
     "execution_count": 11,
     "metadata": {},
     "output_type": "execute_result"
    }
   ],
   "source": [
    "DispoCereDestAnim.sum()[\"DispoGrProt\"]/data.sum()[\"DispoGrProt\"]"
   ]
  },
  {
   "cell_type": "code",
   "execution_count": 18,
   "metadata": {
    "scrolled": true
   },
   "outputs": [
    {
     "data": {
      "text/html": [
       "<div>\n",
       "<style scoped>\n",
       "    .dataframe tbody tr th:only-of-type {\n",
       "        vertical-align: middle;\n",
       "    }\n",
       "\n",
       "    .dataframe tbody tr th {\n",
       "        vertical-align: top;\n",
       "    }\n",
       "\n",
       "    .dataframe thead th {\n",
       "        text-align: right;\n",
       "    }\n",
       "</style>\n",
       "<table border=\"1\" class=\"dataframe\">\n",
       "  <thead>\n",
       "    <tr style=\"text-align: right;\">\n",
       "      <th></th>\n",
       "      <th>Produit</th>\n",
       "      <th>GrDispoAnimaux</th>\n",
       "      <th>KgDispoAnimaux</th>\n",
       "    </tr>\n",
       "  </thead>\n",
       "  <tbody>\n",
       "    <tr>\n",
       "      <th>0</th>\n",
       "      <td>Avoine</td>\n",
       "      <td>16251000000000</td>\n",
       "      <td>1.625100e+10</td>\n",
       "    </tr>\n",
       "    <tr>\n",
       "      <th>1</th>\n",
       "      <td>Blé</td>\n",
       "      <td>129668000000000</td>\n",
       "      <td>1.296680e+11</td>\n",
       "    </tr>\n",
       "    <tr>\n",
       "      <th>2</th>\n",
       "      <td>Céréales, Autres</td>\n",
       "      <td>19035000000000</td>\n",
       "      <td>1.903500e+10</td>\n",
       "    </tr>\n",
       "    <tr>\n",
       "      <th>3</th>\n",
       "      <td>Maïs</td>\n",
       "      <td>546116000000000</td>\n",
       "      <td>5.461160e+11</td>\n",
       "    </tr>\n",
       "    <tr>\n",
       "      <th>4</th>\n",
       "      <td>Millet</td>\n",
       "      <td>3306000000000</td>\n",
       "      <td>3.306000e+09</td>\n",
       "    </tr>\n",
       "    <tr>\n",
       "      <th>5</th>\n",
       "      <td>Orge</td>\n",
       "      <td>92658000000000</td>\n",
       "      <td>9.265800e+10</td>\n",
       "    </tr>\n",
       "    <tr>\n",
       "      <th>6</th>\n",
       "      <td>Riz (Eq Blanchi)</td>\n",
       "      <td>33594000000000</td>\n",
       "      <td>3.359400e+10</td>\n",
       "    </tr>\n",
       "    <tr>\n",
       "      <th>7</th>\n",
       "      <td>Seigle</td>\n",
       "      <td>8099000000000</td>\n",
       "      <td>8.099000e+09</td>\n",
       "    </tr>\n",
       "    <tr>\n",
       "      <th>8</th>\n",
       "      <td>Sorgho</td>\n",
       "      <td>24808000000000</td>\n",
       "      <td>2.480800e+10</td>\n",
       "    </tr>\n",
       "  </tbody>\n",
       "</table>\n",
       "</div>"
      ],
      "text/plain": [
       "            Produit   GrDispoAnimaux  KgDispoAnimaux\n",
       "0            Avoine   16251000000000    1.625100e+10\n",
       "1               Blé  129668000000000    1.296680e+11\n",
       "2  Céréales, Autres   19035000000000    1.903500e+10\n",
       "3              Maïs  546116000000000    5.461160e+11\n",
       "4            Millet    3306000000000    3.306000e+09\n",
       "5              Orge   92658000000000    9.265800e+10\n",
       "6  Riz (Eq Blanchi)   33594000000000    3.359400e+10\n",
       "7            Seigle    8099000000000    8.099000e+09\n",
       "8            Sorgho   24808000000000    2.480800e+10"
      ]
     },
     "execution_count": 18,
     "metadata": {},
     "output_type": "execute_result"
    }
   ],
   "source": [
    "df"
   ]
  },
  {
   "cell_type": "code",
   "execution_count": 13,
   "metadata": {
    "scrolled": true
   },
   "outputs": [
    {
     "data": {
      "text/html": [
       "<div>\n",
       "<style scoped>\n",
       "    .dataframe tbody tr th:only-of-type {\n",
       "        vertical-align: middle;\n",
       "    }\n",
       "\n",
       "    .dataframe tbody tr th {\n",
       "        vertical-align: top;\n",
       "    }\n",
       "\n",
       "    .dataframe thead th {\n",
       "        text-align: right;\n",
       "    }\n",
       "</style>\n",
       "<table border=\"1\" class=\"dataframe\">\n",
       "  <thead>\n",
       "    <tr style=\"text-align: right;\">\n",
       "      <th></th>\n",
       "      <th>Produit</th>\n",
       "      <th>KgDispoAnimaux</th>\n",
       "      <th>DispoKcal</th>\n",
       "      <th>DispoGrProt</th>\n",
       "    </tr>\n",
       "  </thead>\n",
       "  <tbody>\n",
       "    <tr>\n",
       "      <th>0</th>\n",
       "      <td>Avoine</td>\n",
       "      <td>1.625100e+10</td>\n",
       "      <td>3.694655e+13</td>\n",
       "      <td>1.349081e+09</td>\n",
       "    </tr>\n",
       "    <tr>\n",
       "      <th>1</th>\n",
       "      <td>Blé</td>\n",
       "      <td>1.296680e+11</td>\n",
       "      <td>3.695176e+14</td>\n",
       "      <td>1.148262e+10</td>\n",
       "    </tr>\n",
       "    <tr>\n",
       "      <th>2</th>\n",
       "      <td>Céréales, Autres</td>\n",
       "      <td>1.903500e+10</td>\n",
       "      <td>5.543057e+13</td>\n",
       "      <td>1.613657e+09</td>\n",
       "    </tr>\n",
       "    <tr>\n",
       "      <th>3</th>\n",
       "      <td>Maïs</td>\n",
       "      <td>5.461160e+11</td>\n",
       "      <td>1.650248e+15</td>\n",
       "      <td>3.992277e+10</td>\n",
       "    </tr>\n",
       "    <tr>\n",
       "      <th>4</th>\n",
       "      <td>Millet</td>\n",
       "      <td>3.306000e+09</td>\n",
       "      <td>1.025912e+13</td>\n",
       "      <td>2.611202e+08</td>\n",
       "    </tr>\n",
       "    <tr>\n",
       "      <th>5</th>\n",
       "      <td>Orge</td>\n",
       "      <td>9.265800e+10</td>\n",
       "      <td>2.363900e+14</td>\n",
       "      <td>6.700751e+09</td>\n",
       "    </tr>\n",
       "    <tr>\n",
       "      <th>6</th>\n",
       "      <td>Riz (Eq Blanchi)</td>\n",
       "      <td>3.359400e+10</td>\n",
       "      <td>1.223125e+14</td>\n",
       "      <td>2.304638e+09</td>\n",
       "    </tr>\n",
       "    <tr>\n",
       "      <th>7</th>\n",
       "      <td>Seigle</td>\n",
       "      <td>8.099000e+09</td>\n",
       "      <td>2.223549e+13</td>\n",
       "      <td>5.948165e+08</td>\n",
       "    </tr>\n",
       "    <tr>\n",
       "      <th>8</th>\n",
       "      <td>Sorgho</td>\n",
       "      <td>2.480800e+10</td>\n",
       "      <td>7.707522e+13</td>\n",
       "      <td>2.208914e+09</td>\n",
       "    </tr>\n",
       "  </tbody>\n",
       "</table>\n",
       "</div>"
      ],
      "text/plain": [
       "            Produit  KgDispoAnimaux     DispoKcal   DispoGrProt\n",
       "0            Avoine    1.625100e+10  3.694655e+13  1.349081e+09\n",
       "1               Blé    1.296680e+11  3.695176e+14  1.148262e+10\n",
       "2  Céréales, Autres    1.903500e+10  5.543057e+13  1.613657e+09\n",
       "3              Maïs    5.461160e+11  1.650248e+15  3.992277e+10\n",
       "4            Millet    3.306000e+09  1.025912e+13  2.611202e+08\n",
       "5              Orge    9.265800e+10  2.363900e+14  6.700751e+09\n",
       "6  Riz (Eq Blanchi)    3.359400e+10  1.223125e+14  2.304638e+09\n",
       "7            Seigle    8.099000e+09  2.223549e+13  5.948165e+08\n",
       "8            Sorgho    2.480800e+10  7.707522e+13  2.208914e+09"
      ]
     },
     "execution_count": 13,
     "metadata": {},
     "output_type": "execute_result"
    }
   ],
   "source": [
    "DispoCereDestAnim"
   ]
  },
  {
   "cell_type": "code",
   "execution_count": 14,
   "metadata": {},
   "outputs": [
    {
     "data": {
      "text/plain": [
       "302424429720.0"
      ]
     },
     "execution_count": 14,
     "metadata": {},
     "output_type": "execute_result"
    }
   ],
   "source": [
    "#Pour la dernière question, il suffit d'une seule ligne de données du site de la FAO : 43.22(Kg/personne/an)\n",
    "#Il s'agit de la recherche\n",
    "#Bilans Alimentaires-Monde(Total)-Disponibilité alimentaire en quantité-Viande(Total)-2013\n",
    "43.22*6997326000\n",
    "#Multiplié par la population mondiale afin d'avoir la disponibilité totale sur l'année 2013 en kilos."
   ]
  },
  {
   "cell_type": "code",
   "execution_count": 15,
   "metadata": {},
   "outputs": [
    {
     "data": {
      "text/plain": [
       "873535000000.0"
      ]
     },
     "execution_count": 15,
     "metadata": {},
     "output_type": "execute_result"
    }
   ],
   "source": [
    "#Je prends le total des céréales servant a l'alimentation animale\n",
    "DispoCereDestAnim.sum()[\"KgDispoAnimaux\"]"
   ]
  },
  {
   "cell_type": "code",
   "execution_count": 16,
   "metadata": {},
   "outputs": [
    {
     "data": {
      "text/plain": [
       "2.8884405959160224"
      ]
     },
     "execution_count": 16,
     "metadata": {},
     "output_type": "execute_result"
    }
   ],
   "source": [
    "#Et je fais le même rapport que précédemment...\n",
    "873535000000.0/302424429720.0"
   ]
  },
  {
   "cell_type": "code",
   "execution_count": 17,
   "metadata": {},
   "outputs": [],
   "source": [
    "#Il faudrait 2,88kg de céréales pour produire 1 kg de viande"
   ]
  }
 ],
 "metadata": {
  "kernelspec": {
   "display_name": "Python 3",
   "language": "python",
   "name": "python3"
  },
  "language_info": {
   "codemirror_mode": {
    "name": "ipython",
    "version": 3
   },
   "file_extension": ".py",
   "mimetype": "text/x-python",
   "name": "python",
   "nbconvert_exporter": "python",
   "pygments_lexer": "ipython3",
   "version": "3.6.4"
  }
 },
 "nbformat": 4,
 "nbformat_minor": 2
}
